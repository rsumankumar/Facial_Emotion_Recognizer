{
 "cells": [
  {
   "cell_type": "code",
   "execution_count": 1,
   "metadata": {},
   "outputs": [
    {
     "name": "stderr",
     "output_type": "stream",
     "text": [
      "c:\\users\\srachako.oradev\\.anaconda\\miniconda\\envs\\tensorflow\\lib\\importlib\\_bootstrap.py:222: RuntimeWarning: numpy.dtype size changed, may indicate binary incompatibility. Expected 96, got 88\n",
      "  return f(*args, **kwds)\n"
     ]
    }
   ],
   "source": [
    "#import scipy as sc\n",
    "from sklearn.svm import SVC\n",
    "from sklearn.decomposition import PCA\n",
    "import pandas as pd\n",
    "from os import listdir\n",
    "#from PIL import Image\n",
    "import numpy as np\n",
    "#import cv2 as o\n",
    "path = \"D:\\\\pics\\\\Mittu\\\\\""
   ]
  },
  {
   "cell_type": "code",
   "execution_count": null,
   "metadata": {},
   "outputs": [
    {
     "name": "stdout",
     "output_type": "stream",
     "text": [
      "Tensor(\"ReaderReadV2:1\", shape=(), dtype=string)\n",
      "Tensor(\"transpose:0\", shape=(96, 96, 3), dtype=uint8)\n"
     ]
    }
   ],
   "source": [
    "#TEST\n",
    "from scipy import misc\n",
    "import tensorflow as tf\n",
    "\n",
    "#img = misc.img('D:\\\\pics\\\\Mittu\\\\Mittu.PNG')\n",
    "\n",
    "def read_stl10(filename_queue):\n",
    "  class STL10Record(object):\n",
    "    pass\n",
    "  result = STL10Record()\n",
    "\n",
    "  result.height = 96\n",
    "  result.width = 96\n",
    "  result.depth = 3\n",
    "  image_bytes = result.height * result.width * result.depth\n",
    "  record_bytes = image_bytes\n",
    "\n",
    "  reader = tf.FixedLengthRecordReader(record_bytes=record_bytes)\n",
    "  result.key, value = reader.read(filename_queue)\n",
    "  print(value)\n",
    "  record_bytes = tf.decode_raw(value, tf.uint8)\n",
    "\n",
    "  depth_major = tf.reshape(tf.slice(record_bytes, [0], [image_bytes]),\n",
    "                       [result.depth, result.height, result.width])\n",
    "  result.uint8image = tf.transpose(depth_major, [1, 2, 0])\n",
    "  return result\n",
    "# probably a hack since I should've provided a string tensor\n",
    "\n",
    "filename_queue = tf.train.string_input_producer(['D:\\\\pics\\\\Mittu\\\\Mittu.PNG'])\n",
    "image = read_stl10(filename_queue)\n",
    "\n",
    "print(image.uint8image)\n",
    "with tf.Session() as sess:\n",
    "    result = sess.run(image.uint8image)\n",
    "print(result, type(result),result.ndim)\n",
    "\n",
    "#gray=tg.image.rgb_to_grayscale(img,name=None)\n",
    "#print(gray.shape)\n",
    "#!actiavate tensorflow"
   ]
  },
  {
   "cell_type": "code",
   "execution_count": null,
   "metadata": {},
   "outputs": [],
   "source": [
    "def loadImages(path):\n",
    "    # return array of images\n",
    "     imagesList = listdir(path)\n",
    "     label_array=[]\n",
    "     img_array_flatten = []\n",
    "     for image in imagesList:\n",
    "            label=image[:5]\n",
    "            label_array.append(label)\n",
    "            \n",
    "            img = Image.open(path + image)\n",
    "            img1=img.reshape(img.shape[0],-1)\n",
    "            img_array = np.asarray(img1)\n",
    "     #image_array=img_array.reshape(img_array.shape[0],-1)\n",
    "     return image_array,label_array\n",
    "\n",
    "# images in an array\n"
   ]
  },
  {
   "cell_type": "code",
   "execution_count": null,
   "metadata": {},
   "outputs": [],
   "source": [
    "images,labels = loadImages(path)\n",
    "print(labels)\n",
    "Xtrain=images\n",
    "ytrain = labels\n",
    "pca = PCA(n_components=150, whiten=True, random_state=42)\n",
    "svc = SVC(kernel='rbf', class_weight='balanced')\n",
    "m = svc.fit(Xtrain,ytrain)\n",
    "\n"
   ]
  },
  {
   "cell_type": "code",
   "execution_count": null,
   "metadata": {},
   "outputs": [],
   "source": [
    "y = svc.predict(Xtest)\n",
    "print(y)\n"
   ]
  },
  {
   "cell_type": "code",
   "execution_count": null,
   "metadata": {},
   "outputs": [],
   "source": []
  }
 ],
 "metadata": {
  "kernelspec": {
   "display_name": "Python 3",
   "language": "python",
   "name": "python3"
  },
  "language_info": {
   "codemirror_mode": {
    "name": "ipython",
    "version": 3
   },
   "file_extension": ".py",
   "mimetype": "text/x-python",
   "name": "python",
   "nbconvert_exporter": "python",
   "pygments_lexer": "ipython3",
   "version": "3.5.5"
  }
 },
 "nbformat": 4,
 "nbformat_minor": 2
}
